{
 "cells": [
  {
   "cell_type": "code",
   "execution_count": 1,
   "id": "lined-bunch",
   "metadata": {},
   "outputs": [],
   "source": [
    "import numpy as np \n",
    "import cv2 "
   ]
  },
  {
   "cell_type": "code",
   "execution_count": 2,
   "id": "drawn-agency",
   "metadata": {},
   "outputs": [],
   "source": [
    "videoFeed = cv2.VideoCapture(0) \n",
    "while (True): \n",
    "    ret, frame = videoFeed.read()\n",
    "    if ret == False:\n",
    "        print(\"Failed to retrieve frame\")\n",
    "        break \n",
    "    #frame_gray = cv2.cvtColor(frame, cv2.COLOR_BGR2GRAY) \n",
    "    cv2.imshow('Feed', frame) \n",
    "    if cv2.waitKey(1) & 0xFF == ord(\"q\"): \n",
    "        break \n",
    "videoFeed.release() \n",
    "cv2.destroyAllWindows() "
   ]
  },
  {
   "cell_type": "code",
   "execution_count": null,
   "id": "white-profession",
   "metadata": {},
   "outputs": [],
   "source": []
  }
 ],
 "metadata": {
  "kernelspec": {
   "display_name": "Python 3",
   "language": "python",
   "name": "python3"
  },
  "language_info": {
   "codemirror_mode": {
    "name": "ipython",
    "version": 3
   },
   "file_extension": ".py",
   "mimetype": "text/x-python",
   "name": "python",
   "nbconvert_exporter": "python",
   "pygments_lexer": "ipython3",
   "version": "3.7.9"
  }
 },
 "nbformat": 4,
 "nbformat_minor": 5
}
